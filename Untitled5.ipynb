{
  "nbformat": 4,
  "nbformat_minor": 0,
  "metadata": {
    "colab": {
      "provenance": [],
      "mount_file_id": "1ISMqymG26MCUz8oYLXK3cLu5qW2bKOGe",
      "authorship_tag": "ABX9TyO+NYfs95KEFdtvmWT/O6h5",
      "include_colab_link": true
    },
    "kernelspec": {
      "name": "python3",
      "display_name": "Python 3"
    },
    "language_info": {
      "name": "python"
    }
  },
  "cells": [
    {
      "cell_type": "markdown",
      "metadata": {
        "id": "view-in-github",
        "colab_type": "text"
      },
      "source": [
        "<a href=\"https://colab.research.google.com/github/Nisarga253/Exam/blob/master/Untitled5.ipynb\" target=\"_parent\"><img src=\"https://colab.research.google.com/assets/colab-badge.svg\" alt=\"Open In Colab\"/></a>"
      ]
    },
    {
      "cell_type": "code",
      "execution_count": 2,
      "metadata": {
        "colab": {
          "base_uri": "https://localhost:8080/"
        },
        "id": "_RbRUr1fiThl",
        "outputId": "fc1b2864-84c1-478c-e33a-47379f9e90a7"
      },
      "outputs": [
        {
          "output_type": "stream",
          "name": "stdout",
          "text": [
            "Trained XOR Gate Results:\n",
            "XOR(0, 0) = 0\n",
            "XOR(0, 1) = 1\n",
            "XOR(1, 0) = 1\n",
            "XOR(1, 1) = 0\n"
          ]
        }
      ],
      "source": [
        "import numpy as np\n",
        "\n",
        "def step_function(v):\n",
        "    return 1 if v >= 0 else 0\n",
        "\n",
        "class Perceptron:\n",
        "    def __init__(self, input_size, learning_rate=0.1):\n",
        "        self.weights = np.random.rand(input_size)\n",
        "        self.bias = np.random.rand(1)\n",
        "        self.learning_rate = learning_rate\n",
        "\n",
        "    def predict(self, x):\n",
        "        v = np.dot(self.weights, x) + self.bias\n",
        "        return step_function(v)\n",
        "\n",
        "    def train(self, x, target):\n",
        "        prediction = self.predict(x)\n",
        "        error = target - prediction\n",
        "        self.weights += self.learning_rate * error * x\n",
        "        self.bias += self.learning_rate * error\n",
        "\n",
        "def AND_gate(perceptron, x):\n",
        "    return perceptron.predict(x)\n",
        "\n",
        "def OR_gate(perceptron, x):\n",
        "    return perceptron.predict(x)\n",
        "\n",
        "def NOT_gate(perceptron, x):\n",
        "    return perceptron.predict(np.array([x]))\n",
        "\n",
        "def XOR_gate(perceptrons, x):\n",
        "    y1 = AND_gate(perceptrons['AND'], x)\n",
        "    y2 = OR_gate(perceptrons['OR'], x)\n",
        "    y3 = NOT_gate(perceptrons['NOT'], y1)\n",
        "    final_output = AND_gate(perceptrons['AND'], np.array([y2, y3]))\n",
        "    return final_output\n",
        "\n",
        "def train_logic_gates(perceptrons, epochs=1000):\n",
        "    and_inputs = [np.array([0, 0]), np.array([0, 1]), np.array([1, 0]), np.array([1, 1])]\n",
        "    and_targets = [0, 0, 0, 1]\n",
        "    for _ in range(epochs):\n",
        "        for x, target in zip(and_inputs, and_targets):\n",
        "            perceptrons['AND'].train(x, target)\n",
        "\n",
        "    or_inputs = [np.array([0, 0]), np.array([0, 1]), np.array([1, 0]), np.array([1, 1])]\n",
        "    or_targets = [0, 1, 1, 1]\n",
        "    for _ in range(epochs):\n",
        "        for x, target in zip(or_inputs, or_targets):\n",
        "            perceptrons['OR'].train(x, target)\n",
        "\n",
        "    not_inputs = [0, 1]\n",
        "    not_targets = [1, 0]\n",
        "    for _ in range(epochs):\n",
        "        for x, target in zip(not_inputs, not_targets):\n",
        "            perceptrons['NOT'].train(x, target)\n",
        "\n",
        "perceptrons = {\n",
        "    'AND': Perceptron(input_size=2),\n",
        "    'OR': Perceptron(input_size=2),\n",
        "    'NOT': Perceptron(input_size=1)\n",
        "}\n",
        "\n",
        "train_logic_gates(perceptrons, epochs=1000)\n",
        "\n",
        "test_cases = [np.array([0, 0]), np.array([0, 1]), np.array([1, 0]), np.array([1, 1])]\n",
        "\n",
        "print(\"Trained XOR Gate Results:\")\n",
        "for test in test_cases:\n",
        "    result = XOR_gate(perceptrons, test)\n",
        "    print(f\"XOR({test[0]}, {test[1]}) = {result}\")\n"
      ]
    }
  ]
}